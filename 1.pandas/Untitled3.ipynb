{
 "cells": [
  {
   "cell_type": "code",
   "execution_count": 1,
   "metadata": {},
   "outputs": [],
   "source": [
    "import pandas as pd\n",
    "import datetime as dt\n"
   ]
  },
  {
   "cell_type": "markdown",
   "metadata": {},
   "source": [
    "# working with date time"
   ]
  },
  {
   "cell_type": "code",
   "execution_count": 2,
   "metadata": {},
   "outputs": [],
   "source": [
    "someday=dt.date(2010,1,20)\n"
   ]
  },
  {
   "cell_type": "code",
   "execution_count": 3,
   "metadata": {},
   "outputs": [
    {
     "data": {
      "text/plain": [
       "2010"
      ]
     },
     "execution_count": 3,
     "metadata": {},
     "output_type": "execute_result"
    }
   ],
   "source": [
    "someday.year"
   ]
  },
  {
   "cell_type": "code",
   "execution_count": 4,
   "metadata": {},
   "outputs": [
    {
     "data": {
      "text/plain": [
       "1"
      ]
     },
     "execution_count": 4,
     "metadata": {},
     "output_type": "execute_result"
    }
   ],
   "source": [
    "someday.month"
   ]
  },
  {
   "cell_type": "code",
   "execution_count": 5,
   "metadata": {},
   "outputs": [
    {
     "data": {
      "text/plain": [
       "20"
      ]
     },
     "execution_count": 5,
     "metadata": {},
     "output_type": "execute_result"
    }
   ],
   "source": [
    "someday.day"
   ]
  },
  {
   "cell_type": "code",
   "execution_count": 6,
   "metadata": {},
   "outputs": [
    {
     "data": {
      "text/plain": [
       "datetime.date(2010, 1, 20)"
      ]
     },
     "execution_count": 6,
     "metadata": {},
     "output_type": "execute_result"
    }
   ],
   "source": [
    "someday"
   ]
  },
  {
   "cell_type": "code",
   "execution_count": 6,
   "metadata": {},
   "outputs": [
    {
     "data": {
      "text/plain": [
       "'2010-01-20'"
      ]
     },
     "execution_count": 6,
     "metadata": {},
     "output_type": "execute_result"
    }
   ],
   "source": [
    "str(someday)"
   ]
  },
  {
   "cell_type": "code",
   "execution_count": 9,
   "metadata": {},
   "outputs": [
    {
     "data": {
      "text/plain": [
       "2010"
      ]
     },
     "execution_count": 9,
     "metadata": {},
     "output_type": "execute_result"
    }
   ],
   "source": [
    "sometime=dt.datetime(2010,3,10,15,13,57) #format--->year,months,date,hour,mint,sec\n",
    "sometime.year"
   ]
  },
  {
   "cell_type": "code",
   "execution_count": 10,
   "metadata": {},
   "outputs": [
    {
     "data": {
      "text/plain": [
       "'2010-03-10 15:13:57'"
      ]
     },
     "execution_count": 10,
     "metadata": {},
     "output_type": "execute_result"
    }
   ],
   "source": [
    "str(dt.datetime(2010,3,10,15,13,57))"
   ]
  },
  {
   "cell_type": "code",
   "execution_count": 11,
   "metadata": {},
   "outputs": [],
   "source": [
    "sometime=str(dt.datetime(2010,3,10,15,13,57))"
   ]
  },
  {
   "cell_type": "code",
   "execution_count": 12,
   "metadata": {},
   "outputs": [
    {
     "data": {
      "text/plain": [
       "'2010-03-10 15:13:57'"
      ]
     },
     "execution_count": 12,
     "metadata": {},
     "output_type": "execute_result"
    }
   ],
   "source": [
    "sometime"
   ]
  },
  {
   "cell_type": "code",
   "execution_count": 12,
   "metadata": {},
   "outputs": [],
   "source": [
    "#someday.year\n",
    "#someday.month\n",
    "#someday.day\n",
    "#someday.hour\n",
    "#someday.minute\n",
    "#sometime.second"
   ]
  },
  {
   "cell_type": "markdown",
   "metadata": {},
   "source": [
    "# the pandas timestamp object"
   ]
  },
  {
   "cell_type": "code",
   "execution_count": 14,
   "metadata": {},
   "outputs": [
    {
     "data": {
      "text/plain": [
       "Timestamp('2021-03-08 18:13:29')"
      ]
     },
     "execution_count": 14,
     "metadata": {},
     "output_type": "execute_result"
    }
   ],
   "source": [
    "#pd.TimeStamp(\"2015-03-31\")\n",
    "#pd.TimeStamp(\"2015-03-31\")\n",
    "#pd.TimeStamp(\"2015,03,04\")\n",
    "#pd.TimeStamp(\"02/1/2015\")\n",
    "#pd.TimeStamp(\"19/12/2015\")\n",
    "#pd.TimeStamp(\"4/2/2015\")\n",
    "#pd.TimeStamp(\"2021-03-08 08:13:29\")\n",
    "pd.Timestamp(\"2021-03-08 06:13:29 PM\")\n",
    "\n",
    "\n",
    "\n"
   ]
  },
  {
   "cell_type": "code",
   "execution_count": 15,
   "metadata": {},
   "outputs": [
    {
     "data": {
      "text/plain": [
       "Timestamp('2015-01-01 00:00:00')"
      ]
     },
     "execution_count": 15,
     "metadata": {},
     "output_type": "execute_result"
    }
   ],
   "source": [
    "pd.Timestamp(dt.date(2015,1,1))"
   ]
  },
  {
   "cell_type": "code",
   "execution_count": 16,
   "metadata": {},
   "outputs": [
    {
     "data": {
      "text/plain": [
       "Timestamp('2015-01-01 21:35:22')"
      ]
     },
     "execution_count": 16,
     "metadata": {},
     "output_type": "execute_result"
    }
   ],
   "source": [
    "pd.Timestamp(dt.datetime(2015,1,1,21,35,22))"
   ]
  },
  {
   "cell_type": "code",
   "execution_count": 18,
   "metadata": {},
   "outputs": [
    {
     "data": {
      "text/plain": [
       "DatetimeIndex(['2016-01-02', '2017-04-12', '2011-03-04'], dtype='datetime64[ns]', freq=None)"
      ]
     },
     "execution_count": 18,
     "metadata": {},
     "output_type": "execute_result"
    }
   ],
   "source": [
    "dates=[\"2016/01/02\",\"2017/04/12\",\"2011/03/04\"]\n",
    "pd.DatetimeIndex(dates)"
   ]
  },
  {
   "cell_type": "code",
   "execution_count": 19,
   "metadata": {},
   "outputs": [],
   "source": [
    "import pandas as pd\n"
   ]
  },
  {
   "cell_type": "code",
   "execution_count": 20,
   "metadata": {},
   "outputs": [],
   "source": [
    "dates=[dt.date(2014,1,10),dt.date(2014,1,10),dt.date(2014,1,10)]\n",
    "dtIndex=pd.DatetimeIndex(dates)"
   ]
  },
  {
   "cell_type": "code",
   "execution_count": 21,
   "metadata": {},
   "outputs": [
    {
     "data": {
      "text/plain": [
       "[datetime.date(2014, 1, 10),\n",
       " datetime.date(2014, 1, 10),\n",
       " datetime.date(2014, 1, 10)]"
      ]
     },
     "execution_count": 21,
     "metadata": {},
     "output_type": "execute_result"
    }
   ],
   "source": [
    "dates"
   ]
  },
  {
   "cell_type": "code",
   "execution_count": 22,
   "metadata": {},
   "outputs": [
    {
     "data": {
      "text/plain": [
       "DatetimeIndex(['2014-01-10', '2014-01-10', '2014-01-10'], dtype='datetime64[ns]', freq=None)"
      ]
     },
     "execution_count": 22,
     "metadata": {},
     "output_type": "execute_result"
    }
   ],
   "source": [
    "dtIndex"
   ]
  },
  {
   "cell_type": "code",
   "execution_count": 24,
   "metadata": {},
   "outputs": [
    {
     "data": {
      "text/plain": [
       "2014-01-10    10\n",
       "2014-01-10    20\n",
       "2014-01-10    30\n",
       "dtype: int64"
      ]
     },
     "execution_count": 24,
     "metadata": {},
     "output_type": "execute_result"
    }
   ],
   "source": [
    "values=[10,20,30]\n",
    "a=pd.Series(values,dtIndex)\n",
    "a"
   ]
  },
  {
   "cell_type": "code",
   "execution_count": 26,
   "metadata": {},
   "outputs": [
    {
     "data": {
      "text/html": [
       "<div>\n",
       "<style scoped>\n",
       "    .dataframe tbody tr th:only-of-type {\n",
       "        vertical-align: middle;\n",
       "    }\n",
       "\n",
       "    .dataframe tbody tr th {\n",
       "        vertical-align: top;\n",
       "    }\n",
       "\n",
       "    .dataframe thead th {\n",
       "        text-align: right;\n",
       "    }\n",
       "</style>\n",
       "<table border=\"1\" class=\"dataframe\">\n",
       "  <thead>\n",
       "    <tr style=\"text-align: right;\">\n",
       "      <th></th>\n",
       "      <th>vijay</th>\n",
       "    </tr>\n",
       "  </thead>\n",
       "  <tbody>\n",
       "    <tr>\n",
       "      <th>2014-01-10</th>\n",
       "      <td>10</td>\n",
       "    </tr>\n",
       "    <tr>\n",
       "      <th>2014-01-10</th>\n",
       "      <td>20</td>\n",
       "    </tr>\n",
       "    <tr>\n",
       "      <th>2014-01-10</th>\n",
       "      <td>30</td>\n",
       "    </tr>\n",
       "  </tbody>\n",
       "</table>\n",
       "</div>"
      ],
      "text/plain": [
       "            vijay\n",
       "2014-01-10     10\n",
       "2014-01-10     20\n",
       "2014-01-10     30"
      ]
     },
     "execution_count": 26,
     "metadata": {},
     "output_type": "execute_result"
    }
   ],
   "source": [
    "a.to_frame(name=\"vijay\")"
   ]
  },
  {
   "cell_type": "code",
   "execution_count": 31,
   "metadata": {},
   "outputs": [],
   "source": [
    "#pd.DataFrame(a,index=\"vijay\")"
   ]
  },
  {
   "cell_type": "markdown",
   "metadata": {},
   "source": [
    "# the pd.todatetime() method"
   ]
  },
  {
   "cell_type": "code",
   "execution_count": 34,
   "metadata": {},
   "outputs": [
    {
     "data": {
      "text/plain": [
       "DatetimeIndex(['2015-01-02', '2017-03-08', '2017-01-01', '1998-07-04'], dtype='datetime64[ns]', freq=None)"
      ]
     },
     "execution_count": 34,
     "metadata": {},
     "output_type": "execute_result"
    }
   ],
   "source": [
    "pd.to_datetime(\"2001-04-19\")\n",
    "pd.to_datetime(dt.date(2015,1,1,))\n",
    "#pd.to_datetime(dt.datetime(2015,1,14,14,34,20))\n",
    "pd.to_datetime([\"2015-01-02\",\"2017-03-08\",\"2017\",\"July 4th,1998\"])"
   ]
  },
  {
   "cell_type": "code",
   "execution_count": 35,
   "metadata": {},
   "outputs": [
    {
     "data": {
      "text/plain": [
       "0   2015-01-01\n",
       "1   2014-02-08\n",
       "2   2016-01-01\n",
       "3   2032-07-02\n",
       "dtype: datetime64[ns]"
      ]
     },
     "execution_count": 35,
     "metadata": {},
     "output_type": "execute_result"
    }
   ],
   "source": [
    "times=pd.Series([dt.date(2015,1,1),\"2014/02/08\",\"2016\",\"July-2-32\"])\n",
    "pd.to_datetime(times)"
   ]
  },
  {
   "cell_type": "code",
   "execution_count": 40,
   "metadata": {},
   "outputs": [
    {
     "data": {
      "text/plain": [
       "0    July 4th,1996\n",
       "1       10/04/1991\n",
       "2            hello\n",
       "3        2014-2-31\n",
       "dtype: object"
      ]
     },
     "execution_count": 40,
     "metadata": {},
     "output_type": "execute_result"
    }
   ],
   "source": [
    "dates=pd.Series([\"July 4th,1996\",\"10/04/1991\",\"hello\",\"2014-2-31\"])\n",
    "dates"
   ]
  },
  {
   "cell_type": "code",
   "execution_count": null,
   "metadata": {},
   "outputs": [],
   "source": []
  },
  {
   "cell_type": "code",
   "execution_count": 42,
   "metadata": {},
   "outputs": [
    {
     "data": {
      "text/plain": [
       "0   1996-07-04\n",
       "1   1991-10-04\n",
       "2          NaT\n",
       "3          NaT\n",
       "dtype: datetime64[ns]"
      ]
     },
     "execution_count": 42,
     "metadata": {},
     "output_type": "execute_result"
    }
   ],
   "source": [
    "pd.to_datetime(dates,errors=\"coerce\")"
   ]
  },
  {
   "cell_type": "code",
   "execution_count": 46,
   "metadata": {},
   "outputs": [
    {
     "data": {
      "text/plain": [
       "DatetimeIndex(['1970-01-01 00:00:01.571547221',\n",
       "               '1970-01-01 00:00:00.157165721',\n",
       "               '1970-01-01 00:00:01.571763221',\n",
       "               '1970-01-01 00:00:00.163747221'],\n",
       "              dtype='datetime64[ns]', freq=None)"
      ]
     },
     "execution_count": 46,
     "metadata": {},
     "output_type": "execute_result"
    }
   ],
   "source": [
    "pd.to_datetime([1571547221,157165721,1571763221,163747221])"
   ]
  },
  {
   "cell_type": "code",
   "execution_count": 47,
   "metadata": {},
   "outputs": [
    {
     "data": {
      "text/plain": [
       "DatetimeIndex(['2019-10-20 04:53:41', '1974-12-25 01:08:41',\n",
       "               '2019-10-22 16:53:41', '1975-03-11 05:20:21'],\n",
       "              dtype='datetime64[ns]', freq=None)"
      ]
     },
     "execution_count": 47,
     "metadata": {},
     "output_type": "execute_result"
    }
   ],
   "source": [
    "pd.to_datetime([1571547221,157165721,1571763221,163747221],unit=\"s\")"
   ]
  },
  {
   "cell_type": "code",
   "execution_count": 48,
   "metadata": {},
   "outputs": [
    {
     "data": {
      "text/plain": [
       "Period('2016-01-08', '10D')"
      ]
     },
     "execution_count": 48,
     "metadata": {},
     "output_type": "execute_result"
    }
   ],
   "source": [
    "pd.Period(\"2016-01-08\",freq=\"10D\")"
   ]
  },
  {
   "cell_type": "code",
   "execution_count": 52,
   "metadata": {},
   "outputs": [
    {
     "data": {
      "text/plain": [
       "2016-01    1\n",
       "2016-02    2\n",
       "2016-03    3\n",
       "Freq: 2M, dtype: int64"
      ]
     },
     "execution_count": 52,
     "metadata": {},
     "output_type": "execute_result"
    }
   ],
   "source": [
    "dates=[\"2016-01-1\",\"2016-02-01\",\"2016-03-01\"]\n",
    "pd.Series([1,2,3],index=pd.PeriodIndex(dates,freq=\"2M\"))"
   ]
  },
  {
   "cell_type": "code",
   "execution_count": 54,
   "metadata": {},
   "outputs": [
    {
     "data": {
      "text/plain": [
       "PeriodIndex(['2015-12-29/2016-01-04', '2016-01-26/2016-02-01',\n",
       "             '2016-01-26/2016-02-01'],\n",
       "            dtype='period[W-MON]', freq='W-MON')"
      ]
     },
     "execution_count": 54,
     "metadata": {},
     "output_type": "execute_result"
    }
   ],
   "source": [
    "pd.Period(\"2016-01-08\",freq=\"W\")\n",
    "pd.Period(\"2016-01-08\",freq=\"W-SUN\")\n",
    "pd.Period(\"2016-01-08\",freq=\"W-WED\")\n",
    "pd.Period(\"2016-12-10\",freq=\"10D\")\n",
    "dates=[\"2016-01-01\",\"2016-02-01\",\"2016-02-01\"]\n",
    "pd.PeriodIndex(dates,freq=\"W-MON\")"
   ]
  },
  {
   "cell_type": "code",
   "execution_count": 57,
   "metadata": {},
   "outputs": [],
   "source": [
    "weeks=pd.PeriodIndex(dates,freq=\"W-MON\")\n",
    "weeks\n",
    "a=pd.Series([999,67273,325],index=weeks,name=\"weekly revenue\")\n"
   ]
  },
  {
   "cell_type": "code",
   "execution_count": 58,
   "metadata": {},
   "outputs": [
    {
     "data": {
      "text/plain": [
       "'weekly revenue'"
      ]
     },
     "execution_count": 58,
     "metadata": {},
     "output_type": "execute_result"
    }
   ],
   "source": [
    "a.name"
   ]
  },
  {
   "cell_type": "code",
   "execution_count": 59,
   "metadata": {},
   "outputs": [],
   "source": [
    "a.name=\"vijay pratap\""
   ]
  },
  {
   "cell_type": "code",
   "execution_count": 61,
   "metadata": {},
   "outputs": [
    {
     "data": {
      "text/plain": [
       "'vijay pratap'"
      ]
     },
     "execution_count": 61,
     "metadata": {},
     "output_type": "execute_result"
    }
   ],
   "source": [
    "a.name"
   ]
  },
  {
   "cell_type": "code",
   "execution_count": 62,
   "metadata": {},
   "outputs": [
    {
     "data": {
      "text/plain": [
       "DatetimeIndex(['2016-01-01', '2016-01-02', '2016-01-03', '2016-01-04',\n",
       "               '2016-01-05', '2016-01-06', '2016-01-07', '2016-01-08',\n",
       "               '2016-01-09', '2016-01-10',\n",
       "               ...\n",
       "               '2019-01-01', '2019-01-02', '2019-01-03', '2019-01-04',\n",
       "               '2019-01-05', '2019-01-06', '2019-01-07', '2019-01-08',\n",
       "               '2019-01-09', '2019-01-10'],\n",
       "              dtype='datetime64[ns]', length=1106, freq='D')"
      ]
     },
     "execution_count": 62,
     "metadata": {},
     "output_type": "execute_result"
    }
   ],
   "source": [
    "times=pd.date_range(start=\"2016-01-01\",end=\"2019-01-10\",freq='D')\n",
    "times"
   ]
  },
  {
   "cell_type": "code",
   "execution_count": 65,
   "metadata": {},
   "outputs": [
    {
     "data": {
      "text/plain": [
       "pandas._libs.tslibs.timestamps.Timestamp"
      ]
     },
     "execution_count": 65,
     "metadata": {},
     "output_type": "execute_result"
    }
   ],
   "source": [
    "type(times[0])"
   ]
  },
  {
   "cell_type": "code",
   "execution_count": 66,
   "metadata": {},
   "outputs": [
    {
     "data": {
      "text/plain": [
       "DatetimeIndex(['2016-01-01', '2016-01-02', '2016-01-03', '2016-01-04',\n",
       "               '2016-01-05', '2016-01-06', '2016-01-07', '2016-01-08',\n",
       "               '2016-01-09', '2016-01-10',\n",
       "               ...\n",
       "               '2019-01-01', '2019-01-02', '2019-01-03', '2019-01-04',\n",
       "               '2019-01-05', '2019-01-06', '2019-01-07', '2019-01-08',\n",
       "               '2019-01-09', '2019-01-10'],\n",
       "              dtype='datetime64[ns]', length=1106, freq='D')"
      ]
     },
     "execution_count": 66,
     "metadata": {},
     "output_type": "execute_result"
    }
   ],
   "source": [
    "times"
   ]
  },
  {
   "cell_type": "code",
   "execution_count": 67,
   "metadata": {},
   "outputs": [
    {
     "data": {
      "text/plain": [
       "Timestamp('2016-01-01 00:00:00', freq='D')"
      ]
     },
     "execution_count": 67,
     "metadata": {},
     "output_type": "execute_result"
    }
   ],
   "source": [
    "times[0]"
   ]
  },
  {
   "cell_type": "code",
   "execution_count": 70,
   "metadata": {},
   "outputs": [
    {
     "data": {
      "text/plain": [
       "DatetimeIndex(['2012-09-09 00:00:00', '2012-09-09 06:00:00',\n",
       "               '2012-09-09 12:00:00', '2012-09-09 18:00:00',\n",
       "               '2012-09-10 00:00:00', '2012-09-10 06:00:00',\n",
       "               '2012-09-10 12:00:00', '2012-09-10 18:00:00',\n",
       "               '2012-09-11 00:00:00', '2012-09-11 06:00:00',\n",
       "               ...\n",
       "               '2012-10-06 12:00:00', '2012-10-06 18:00:00',\n",
       "               '2012-10-07 00:00:00', '2012-10-07 06:00:00',\n",
       "               '2012-10-07 12:00:00', '2012-10-07 18:00:00',\n",
       "               '2012-10-08 00:00:00', '2012-10-08 06:00:00',\n",
       "               '2012-10-08 12:00:00', '2012-10-08 18:00:00'],\n",
       "              dtype='datetime64[ns]', length=120, freq='6H')"
      ]
     },
     "execution_count": 70,
     "metadata": {},
     "output_type": "execute_result"
    }
   ],
   "source": [
    "pd.date_range(start=\"2012-09-09\",periods=120,freq=\"6H\")"
   ]
  },
  {
   "cell_type": "code",
   "execution_count": 71,
   "metadata": {},
   "outputs": [
    {
     "data": {
      "text/plain": [
       "DatetimeIndex(['1999-12-02 03:00:00', '1999-12-02 10:00:00',\n",
       "               '1999-12-02 17:00:00', '1999-12-03 00:00:00',\n",
       "               '1999-12-03 07:00:00', '1999-12-03 14:00:00',\n",
       "               '1999-12-03 21:00:00', '1999-12-04 04:00:00',\n",
       "               '1999-12-04 11:00:00', '1999-12-04 18:00:00',\n",
       "               '1999-12-05 01:00:00', '1999-12-05 08:00:00',\n",
       "               '1999-12-05 15:00:00', '1999-12-05 22:00:00',\n",
       "               '1999-12-06 05:00:00', '1999-12-06 12:00:00',\n",
       "               '1999-12-06 19:00:00', '1999-12-07 02:00:00',\n",
       "               '1999-12-07 09:00:00', '1999-12-07 16:00:00',\n",
       "               '1999-12-07 23:00:00', '1999-12-08 06:00:00',\n",
       "               '1999-12-08 13:00:00', '1999-12-08 20:00:00',\n",
       "               '1999-12-09 03:00:00', '1999-12-09 10:00:00',\n",
       "               '1999-12-09 17:00:00', '1999-12-10 00:00:00',\n",
       "               '1999-12-10 07:00:00', '1999-12-10 14:00:00',\n",
       "               '1999-12-10 21:00:00', '1999-12-11 04:00:00',\n",
       "               '1999-12-11 11:00:00', '1999-12-11 18:00:00',\n",
       "               '1999-12-12 01:00:00', '1999-12-12 08:00:00',\n",
       "               '1999-12-12 15:00:00', '1999-12-12 22:00:00',\n",
       "               '1999-12-13 05:00:00', '1999-12-13 12:00:00',\n",
       "               '1999-12-13 19:00:00', '1999-12-14 02:00:00',\n",
       "               '1999-12-14 09:00:00', '1999-12-14 16:00:00',\n",
       "               '1999-12-14 23:00:00', '1999-12-15 06:00:00',\n",
       "               '1999-12-15 13:00:00', '1999-12-15 20:00:00',\n",
       "               '1999-12-16 03:00:00', '1999-12-16 10:00:00',\n",
       "               '1999-12-16 17:00:00', '1999-12-17 00:00:00',\n",
       "               '1999-12-17 07:00:00', '1999-12-17 14:00:00',\n",
       "               '1999-12-17 21:00:00', '1999-12-18 04:00:00',\n",
       "               '1999-12-18 11:00:00', '1999-12-18 18:00:00',\n",
       "               '1999-12-19 01:00:00', '1999-12-19 08:00:00',\n",
       "               '1999-12-19 15:00:00', '1999-12-19 22:00:00',\n",
       "               '1999-12-20 05:00:00', '1999-12-20 12:00:00',\n",
       "               '1999-12-20 19:00:00', '1999-12-21 02:00:00',\n",
       "               '1999-12-21 09:00:00', '1999-12-21 16:00:00',\n",
       "               '1999-12-21 23:00:00', '1999-12-22 06:00:00',\n",
       "               '1999-12-22 13:00:00', '1999-12-22 20:00:00',\n",
       "               '1999-12-23 03:00:00', '1999-12-23 10:00:00',\n",
       "               '1999-12-23 17:00:00', '1999-12-24 00:00:00',\n",
       "               '1999-12-24 07:00:00', '1999-12-24 14:00:00',\n",
       "               '1999-12-24 21:00:00', '1999-12-25 04:00:00',\n",
       "               '1999-12-25 11:00:00', '1999-12-25 18:00:00',\n",
       "               '1999-12-26 01:00:00', '1999-12-26 08:00:00',\n",
       "               '1999-12-26 15:00:00', '1999-12-26 22:00:00',\n",
       "               '1999-12-27 05:00:00', '1999-12-27 12:00:00',\n",
       "               '1999-12-27 19:00:00', '1999-12-28 02:00:00',\n",
       "               '1999-12-28 09:00:00', '1999-12-28 16:00:00',\n",
       "               '1999-12-28 23:00:00', '1999-12-29 06:00:00',\n",
       "               '1999-12-29 13:00:00', '1999-12-29 20:00:00',\n",
       "               '1999-12-30 03:00:00', '1999-12-30 10:00:00',\n",
       "               '1999-12-30 17:00:00', '1999-12-31 00:00:00'],\n",
       "              dtype='datetime64[ns]', freq='7H')"
      ]
     },
     "execution_count": 71,
     "metadata": {},
     "output_type": "execute_result"
    }
   ],
   "source": [
    "pd.date_range(end=\"1999-12-31\",periods=100,freq=\"7H\")"
   ]
  },
  {
   "cell_type": "code",
   "execution_count": 73,
   "metadata": {},
   "outputs": [
    {
     "data": {
      "text/plain": [
       "DatetimeIndex([], dtype='datetime64[ns]', freq='6H')"
      ]
     },
     "execution_count": 73,
     "metadata": {},
     "output_type": "execute_result"
    }
   ],
   "source": [
    "pd.date_range(start=\"2019-12-1\",end=\"1999-12-31\",freq=\"6H\")"
   ]
  },
  {
   "cell_type": "code",
   "execution_count": 74,
   "metadata": {},
   "outputs": [
    {
     "data": {
      "text/plain": [
       "DatetimeIndex(['2000-01-01', '2000-01-25', '2000-02-18', '2000-03-13',\n",
       "               '2000-04-06', '2000-04-30', '2000-05-24', '2000-06-17',\n",
       "               '2000-07-11', '2000-08-04',\n",
       "               ...\n",
       "               '2010-05-20', '2010-06-13', '2010-07-07', '2010-07-31',\n",
       "               '2010-08-24', '2010-09-17', '2010-10-11', '2010-11-04',\n",
       "               '2010-11-28', '2010-12-22'],\n",
       "              dtype='datetime64[ns]', length=168, freq='24D')"
      ]
     },
     "execution_count": 74,
     "metadata": {},
     "output_type": "execute_result"
    }
   ],
   "source": [
    "bunch_of_dates=pd.date_range(start=\"2000-01-01\",end=\"2010-12-31\",freq=\"24D\")\n",
    "bunch_of_dates"
   ]
  },
  {
   "cell_type": "code",
   "execution_count": 76,
   "metadata": {},
   "outputs": [
    {
     "data": {
      "text/plain": [
       "0   2000-01-01\n",
       "1   2000-01-25\n",
       "2   2000-02-18\n",
       "3   2000-03-13\n",
       "4   2000-04-06\n",
       "dtype: datetime64[ns]"
      ]
     },
     "execution_count": 76,
     "metadata": {},
     "output_type": "execute_result"
    }
   ],
   "source": [
    "s=pd.Series(bunch_of_dates)\n",
    "s.head()"
   ]
  },
  {
   "cell_type": "code",
   "execution_count": 77,
   "metadata": {},
   "outputs": [
    {
     "data": {
      "text/plain": [
       "5     2000-04-30\n",
       "57    2003-09-30\n",
       "71    2004-08-31\n",
       "90    2005-11-30\n",
       "123   2008-01-31\n",
       "161   2010-07-31\n",
       "dtype: datetime64[ns]"
      ]
     },
     "execution_count": 77,
     "metadata": {},
     "output_type": "execute_result"
    }
   ],
   "source": [
    "mask=s.dt.is_month_end\n",
    "s[mask]"
   ]
  },
  {
   "cell_type": "code",
   "execution_count": null,
   "metadata": {},
   "outputs": [],
   "source": []
  }
 ],
 "metadata": {
  "kernelspec": {
   "display_name": "Python 3",
   "language": "python",
   "name": "python3"
  },
  "language_info": {
   "codemirror_mode": {
    "name": "ipython",
    "version": 3
   },
   "file_extension": ".py",
   "mimetype": "text/x-python",
   "name": "python",
   "nbconvert_exporter": "python",
   "pygments_lexer": "ipython3",
   "version": "3.7.3"
  }
 },
 "nbformat": 4,
 "nbformat_minor": 2
}
