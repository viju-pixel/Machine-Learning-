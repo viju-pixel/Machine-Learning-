{
 "cells": [
  {
   "cell_type": "code",
   "execution_count": 1,
   "metadata": {},
   "outputs": [],
   "source": [
    "import pandas as pd\n",
    "import numpy as np\n",
    "import matplotlib.pyplot as plt\n",
    "import seaborn as sns\n",
    "from sklearn.model_selection import train_test_split\n",
    "from sklearn.linear_model import LinearRegression"
   ]
  },
  {
   "cell_type": "code",
   "execution_count": 2,
   "metadata": {},
   "outputs": [
    {
     "data": {
      "text/html": [
       "<div>\n",
       "<style scoped>\n",
       "    .dataframe tbody tr th:only-of-type {\n",
       "        vertical-align: middle;\n",
       "    }\n",
       "\n",
       "    .dataframe tbody tr th {\n",
       "        vertical-align: top;\n",
       "    }\n",
       "\n",
       "    .dataframe thead th {\n",
       "        text-align: right;\n",
       "    }\n",
       "</style>\n",
       "<table border=\"1\" class=\"dataframe\">\n",
       "  <thead>\n",
       "    <tr style=\"text-align: right;\">\n",
       "      <th></th>\n",
       "      <th>R&amp;D Spend</th>\n",
       "      <th>Administration</th>\n",
       "      <th>Marketing Spend</th>\n",
       "      <th>State</th>\n",
       "      <th>Profit</th>\n",
       "    </tr>\n",
       "  </thead>\n",
       "  <tbody>\n",
       "    <tr>\n",
       "      <th>0</th>\n",
       "      <td>165349.20</td>\n",
       "      <td>136897.80</td>\n",
       "      <td>471784.10</td>\n",
       "      <td>New York</td>\n",
       "      <td>192261.83</td>\n",
       "    </tr>\n",
       "    <tr>\n",
       "      <th>1</th>\n",
       "      <td>162597.70</td>\n",
       "      <td>151377.59</td>\n",
       "      <td>443898.53</td>\n",
       "      <td>California</td>\n",
       "      <td>191792.06</td>\n",
       "    </tr>\n",
       "    <tr>\n",
       "      <th>2</th>\n",
       "      <td>153441.51</td>\n",
       "      <td>101145.55</td>\n",
       "      <td>407934.54</td>\n",
       "      <td>Florida</td>\n",
       "      <td>191050.39</td>\n",
       "    </tr>\n",
       "    <tr>\n",
       "      <th>3</th>\n",
       "      <td>144372.41</td>\n",
       "      <td>118671.85</td>\n",
       "      <td>383199.62</td>\n",
       "      <td>New York</td>\n",
       "      <td>182901.99</td>\n",
       "    </tr>\n",
       "    <tr>\n",
       "      <th>4</th>\n",
       "      <td>142107.34</td>\n",
       "      <td>91391.77</td>\n",
       "      <td>366168.42</td>\n",
       "      <td>Florida</td>\n",
       "      <td>166187.94</td>\n",
       "    </tr>\n",
       "  </tbody>\n",
       "</table>\n",
       "</div>"
      ],
      "text/plain": [
       "   R&D Spend  Administration  Marketing Spend       State     Profit\n",
       "0  165349.20       136897.80        471784.10    New York  192261.83\n",
       "1  162597.70       151377.59        443898.53  California  191792.06\n",
       "2  153441.51       101145.55        407934.54     Florida  191050.39\n",
       "3  144372.41       118671.85        383199.62    New York  182901.99\n",
       "4  142107.34        91391.77        366168.42     Florida  166187.94"
      ]
     },
     "execution_count": 2,
     "metadata": {},
     "output_type": "execute_result"
    }
   ],
   "source": [
    "data=pd.read_csv(\"D:\\\\datasets\\\\1000_Companies.csv\")\n",
    "data.head()"
   ]
  },
  {
   "cell_type": "code",
   "execution_count": 3,
   "metadata": {},
   "outputs": [
    {
     "data": {
      "text/plain": [
       "array([[165349.2, 136897.8, 471784.1, 'New York'],\n",
       "       [162597.7, 151377.59, 443898.53, 'California'],\n",
       "       [153441.51, 101145.55, 407934.54, 'Florida'],\n",
       "       ...,\n",
       "       [100275.47, 241926.31, 227142.82, 'California'],\n",
       "       [128456.23, 321652.14, 281692.32, 'California'],\n",
       "       [161181.72, 270939.86, 295442.17, 'New York']], dtype=object)"
      ]
     },
     "execution_count": 3,
     "metadata": {},
     "output_type": "execute_result"
    }
   ],
   "source": [
    "real_x=data.iloc[:,0:4].values\n",
    "real_x"
   ]
  },
  {
   "cell_type": "code",
   "execution_count": 4,
   "metadata": {},
   "outputs": [
    {
     "data": {
      "text/plain": [
       "0    192261.83\n",
       "1    191792.06\n",
       "2    191050.39\n",
       "3    182901.99\n",
       "4    166187.94\n",
       "Name: Profit, dtype: float64"
      ]
     },
     "execution_count": 4,
     "metadata": {},
     "output_type": "execute_result"
    }
   ],
   "source": [
    "real_y=data.iloc[ :,4]\n",
    "real_y.head()"
   ]
  },
  {
   "cell_type": "code",
   "execution_count": 5,
   "metadata": {},
   "outputs": [
    {
     "data": {
      "text/plain": [
       "array([2, 0, 1, 2, 1, 2, 0, 1, 2, 0, 1, 0, 1, 0, 1, 2, 0, 2, 1, 2, 0, 2,\n",
       "       1, 1, 2, 0, 1, 2, 1, 2, 1, 2, 0, 1, 0, 2, 1, 0, 2, 0, 0, 1, 0, 2,\n",
       "       0, 2, 1, 0, 2, 0, 2, 0, 1, 2, 1, 2, 0, 1, 2, 0, 1, 0, 1, 0, 1, 2,\n",
       "       0, 2, 1, 2, 0, 2, 1, 1, 2, 0, 1, 2, 1, 2, 1, 2, 0, 1, 0, 2, 1, 0,\n",
       "       2, 0, 0, 1, 0, 2, 0, 2, 1, 0, 2, 0, 2, 0, 1, 2, 1, 2, 0, 1, 2, 0,\n",
       "       1, 0, 1, 0, 1, 2, 0, 2, 1, 2, 0, 2, 1, 1, 2, 0, 1, 2, 1, 2, 1, 2,\n",
       "       0, 1, 0, 2, 1, 0, 2, 0, 0, 1, 0, 2, 0, 2, 1, 0, 2, 0, 2, 0, 1, 2,\n",
       "       1, 2, 0, 1, 2, 0, 1, 0, 1, 0, 1, 2, 0, 2, 1, 2, 0, 2, 1, 1, 2, 0,\n",
       "       1, 2, 1, 2, 1, 2, 0, 1, 0, 2, 1, 0, 2, 0, 0, 1, 0, 2, 0, 2, 1, 0,\n",
       "       2, 0, 0, 1, 2, 1, 2, 0, 1, 2, 0, 1, 0, 1, 0, 1, 2, 0, 2, 1, 2, 0,\n",
       "       2, 1, 1, 2, 0, 1, 2, 1, 2, 1, 2, 0, 1, 0, 2, 1, 0, 2, 0, 0, 1, 0,\n",
       "       2, 0, 2, 1, 0, 2, 0, 2, 0, 1, 2, 1, 2, 0, 1, 2, 0, 1, 0, 1, 0, 1,\n",
       "       2, 0, 2, 1, 2, 0, 2, 1, 1, 2, 0, 1, 2, 1, 2, 1, 2, 0, 1, 0, 2, 1,\n",
       "       0, 2, 0, 0, 1, 0, 2, 0, 2, 1, 0, 2, 0, 0, 1, 2, 1, 2, 0, 1, 2, 0,\n",
       "       1, 0, 1, 0, 1, 2, 0, 2, 1, 2, 0, 2, 1, 1, 2, 0, 1, 2, 1, 2, 1, 2,\n",
       "       0, 1, 0, 2, 1, 0, 2, 0, 0, 1, 0, 2, 0, 2, 1, 0, 2, 0, 2, 0, 1, 2,\n",
       "       1, 2, 0, 1, 2, 0, 1, 0, 1, 0, 1, 2, 0, 2, 1, 2, 0, 2, 1, 1, 2, 0,\n",
       "       1, 2, 1, 2, 1, 2, 0, 1, 0, 2, 1, 0, 2, 0, 0, 1, 0, 2, 0, 2, 1, 0,\n",
       "       2, 0, 0, 1, 2, 1, 2, 0, 1, 2, 0, 1, 0, 1, 0, 1, 2, 0, 2, 1, 2, 0,\n",
       "       2, 1, 1, 2, 0, 1, 2, 1, 2, 1, 2, 0, 1, 0, 2, 1, 0, 2, 0, 0, 1, 0,\n",
       "       2, 0, 2, 1, 0, 2, 0, 2, 0, 1, 2, 1, 2, 0, 1, 2, 0, 1, 0, 1, 0, 1,\n",
       "       2, 0, 2, 1, 2, 0, 2, 1, 1, 2, 0, 1, 2, 1, 2, 1, 2, 0, 1, 0, 2, 1,\n",
       "       0, 2, 0, 0, 1, 0, 2, 0, 2, 1, 0, 2, 0, 0, 1, 2, 1, 2, 0, 1, 2, 0,\n",
       "       1, 0, 1, 0, 1, 2, 0, 2, 1, 2, 0, 2, 1, 1, 2, 0, 1, 2, 1, 2, 1, 2,\n",
       "       0, 1, 0, 2, 1, 0, 2, 0, 0, 1, 0, 2, 0, 2, 1, 0, 2, 0, 2, 0, 1, 2,\n",
       "       1, 2, 0, 1, 2, 0, 1, 0, 1, 0, 1, 2, 0, 2, 1, 2, 0, 2, 1, 1, 2, 0,\n",
       "       1, 2, 1, 2, 1, 2, 0, 1, 0, 2, 1, 0, 2, 0, 0, 1, 0, 2, 0, 2, 1, 0,\n",
       "       2, 0, 0, 1, 2, 1, 2, 0, 1, 2, 0, 1, 0, 1, 0, 1, 2, 0, 2, 1, 2, 0,\n",
       "       2, 1, 1, 2, 0, 1, 2, 1, 2, 1, 2, 0, 1, 0, 2, 1, 0, 2, 0, 0, 1, 0,\n",
       "       2, 0, 2, 1, 0, 2, 0, 2, 0, 1, 2, 1, 2, 0, 1, 2, 0, 1, 0, 1, 0, 1,\n",
       "       2, 0, 2, 1, 2, 0, 2, 1, 1, 2, 0, 1, 2, 1, 2, 1, 2, 0, 1, 0, 2, 1,\n",
       "       0, 2, 0, 0, 1, 0, 2, 0, 2, 1, 0, 2, 0, 0, 1, 2, 1, 2, 0, 1, 2, 0,\n",
       "       1, 0, 1, 0, 1, 2, 0, 2, 1, 2, 0, 2, 1, 1, 2, 0, 1, 2, 1, 2, 1, 2,\n",
       "       0, 1, 0, 2, 1, 0, 2, 0, 0, 1, 0, 2, 0, 2, 1, 0, 2, 0, 2, 0, 1, 2,\n",
       "       1, 2, 0, 1, 2, 0, 1, 0, 1, 0, 1, 2, 0, 2, 1, 2, 0, 2, 1, 1, 2, 0,\n",
       "       1, 2, 1, 2, 1, 2, 0, 1, 0, 2, 1, 0, 2, 0, 0, 1, 0, 2, 0, 2, 1, 0,\n",
       "       2, 0, 0, 1, 2, 1, 2, 0, 1, 2, 0, 1, 0, 1, 0, 1, 2, 0, 2, 1, 2, 0,\n",
       "       2, 1, 1, 2, 0, 1, 2, 1, 2, 1, 2, 0, 1, 0, 2, 1, 0, 2, 0, 0, 1, 0,\n",
       "       2, 0, 2, 1, 0, 2, 0, 2, 0, 1, 2, 1, 2, 0, 1, 2, 0, 1, 0, 1, 0, 1,\n",
       "       2, 0, 2, 1, 2, 0, 2, 1, 1, 2, 0, 1, 2, 1, 2, 1, 2, 0, 1, 0, 2, 1,\n",
       "       0, 2, 0, 0, 1, 0, 2, 0, 2, 1, 0, 2, 0, 0, 1, 2, 1, 2, 0, 1, 2, 0,\n",
       "       1, 0, 1, 0, 1, 2, 0, 2, 1, 2, 0, 2, 1, 1, 2, 0, 1, 2, 1, 2, 1, 2,\n",
       "       0, 1, 0, 2, 1, 0, 2, 0, 0, 1, 0, 2, 0, 2, 1, 0, 2, 0, 2, 0, 1, 2,\n",
       "       1, 2, 0, 1, 2, 0, 1, 0, 1, 0, 1, 2, 0, 2, 1, 2, 0, 2, 1, 1, 2, 0,\n",
       "       1, 2, 1, 2, 1, 2, 0, 1, 0, 2, 1, 0, 2, 0, 0, 1, 0, 2, 0, 2, 1, 1,\n",
       "       0, 2, 1, 0, 2, 0, 0, 0, 0, 2], dtype=object)"
      ]
     },
     "execution_count": 5,
     "metadata": {},
     "output_type": "execute_result"
    }
   ],
   "source": [
    "from sklearn.preprocessing import LabelEncoder\n",
    "\n",
    "# labelEncoder split into different dummy variables\n",
    "\n",
    "LE=LabelEncoder()\n",
    "real_x[:,3]=LE.fit_transform(real_x[:,3]) # 3rd column ko encode karega or usi me save kar dega\n",
    "real_x[:,3]"
   ]
  },
  {
   "cell_type": "code",
   "execution_count": 6,
   "metadata": {},
   "outputs": [
    {
     "name": "stderr",
     "output_type": "stream",
     "text": [
      "C:\\Users\\vijay\\Anaconda3\\lib\\site-packages\\sklearn\\preprocessing\\_encoders.py:415: FutureWarning: The handling of integer data will change in version 0.22. Currently, the categories are determined based on the range [0, max(values)], while in the future they will be determined based on the unique values.\n",
      "If you want the future behaviour and silence this warning, you can specify \"categories='auto'\".\n",
      "In case you used a LabelEncoder before this OneHotEncoder to convert the categories to integers, then you can now use the OneHotEncoder directly.\n",
      "  warnings.warn(msg, FutureWarning)\n",
      "C:\\Users\\vijay\\Anaconda3\\lib\\site-packages\\sklearn\\preprocessing\\_encoders.py:451: DeprecationWarning: The 'categorical_features' keyword is deprecated in version 0.20 and will be removed in 0.22. You can use the ColumnTransformer instead.\n",
      "  \"use the ColumnTransformer instead.\", DeprecationWarning)\n"
     ]
    },
    {
     "data": {
      "text/plain": [
       "array([[0.0000000e+00, 0.0000000e+00, 1.0000000e+00, 1.6534920e+05,\n",
       "        1.3689780e+05, 4.7178410e+05],\n",
       "       [1.0000000e+00, 0.0000000e+00, 0.0000000e+00, 1.6259770e+05,\n",
       "        1.5137759e+05, 4.4389853e+05],\n",
       "       [0.0000000e+00, 1.0000000e+00, 0.0000000e+00, 1.5344151e+05,\n",
       "        1.0114555e+05, 4.0793454e+05],\n",
       "       ...,\n",
       "       [1.0000000e+00, 0.0000000e+00, 0.0000000e+00, 1.0027547e+05,\n",
       "        2.4192631e+05, 2.2714282e+05],\n",
       "       [1.0000000e+00, 0.0000000e+00, 0.0000000e+00, 1.2845623e+05,\n",
       "        3.2165214e+05, 2.8169232e+05],\n",
       "       [0.0000000e+00, 0.0000000e+00, 1.0000000e+00, 1.6118172e+05,\n",
       "        2.7093986e+05, 2.9544217e+05]])"
      ]
     },
     "execution_count": 6,
     "metadata": {},
     "output_type": "execute_result"
    }
   ],
   "source": [
    "# but we want binary form data so import another library oneHotEcoder\n",
    "\n",
    "from sklearn.preprocessing import LabelEncoder,OneHotEncoder\n",
    "OHencoder=OneHotEncoder(categorical_features=[3])  # we have three categorial data in cities so gives 3\n",
    "\n",
    "real_x=OHencoder.fit_transform(real_x).toarray()\n",
    "real_x\n"
   ]
  },
  {
   "cell_type": "code",
   "execution_count": 7,
   "metadata": {},
   "outputs": [
    {
     "data": {
      "text/plain": [
       "array([[0.0000000e+00, 1.0000000e+00, 1.6534920e+05, 1.3689780e+05,\n",
       "        4.7178410e+05],\n",
       "       [0.0000000e+00, 0.0000000e+00, 1.6259770e+05, 1.5137759e+05,\n",
       "        4.4389853e+05],\n",
       "       [1.0000000e+00, 0.0000000e+00, 1.5344151e+05, 1.0114555e+05,\n",
       "        4.0793454e+05],\n",
       "       ...,\n",
       "       [0.0000000e+00, 0.0000000e+00, 1.0027547e+05, 2.4192631e+05,\n",
       "        2.2714282e+05],\n",
       "       [0.0000000e+00, 0.0000000e+00, 1.2845623e+05, 3.2165214e+05,\n",
       "        2.8169232e+05],\n",
       "       [0.0000000e+00, 1.0000000e+00, 1.6118172e+05, 2.7093986e+05,\n",
       "        2.9544217e+05]])"
      ]
     },
     "execution_count": 7,
     "metadata": {},
     "output_type": "execute_result"
    }
   ],
   "source": [
    "# avoiding dummy variable trap\n",
    "real_x=real_x[:,1:]\n",
    "real_x"
   ]
  },
  {
   "cell_type": "code",
   "execution_count": 8,
   "metadata": {},
   "outputs": [
    {
     "data": {
      "text/plain": [
       "LinearRegression(copy_X=True, fit_intercept=True, n_jobs=None, normalize=False)"
      ]
     },
     "execution_count": 8,
     "metadata": {},
     "output_type": "execute_result"
    }
   ],
   "source": [
    "# now training or testing data ko split krenge\n",
    "\n",
    "train_x,test_x,train_y,test_y=train_test_split(real_x,real_y,test_size=0.2,random_state=0) \n",
    "#now build the linear model\n",
    "\n",
    "MLR=LinearRegression()\n",
    "MLR.fit(train_x,train_y)"
   ]
  },
  {
   "cell_type": "code",
   "execution_count": 9,
   "metadata": {},
   "outputs": [
    {
     "data": {
      "text/plain": [
       "array([ 89790.61532916,  88427.07187362,  94894.67836972, 175680.86725609,\n",
       "        83411.73042089, 110571.90200074, 132145.22936441,  91473.37719687,\n",
       "       164597.05380605,  53222.82667402,  66950.19050991, 150566.43987004,\n",
       "       126915.20858596,  59337.85971051, 177513.9105306 ,  75316.28143052,\n",
       "       118248.14406603, 164574.40699901, 170937.28981069, 182069.11645083,\n",
       "       118845.03252689,  85669.95112229, 180992.59396142,  84145.08220146,\n",
       "       105005.83769214, 101233.56772747,  53831.07669092,  56881.41475226,\n",
       "        68896.39346906, 210040.00765882, 120778.72270894, 111724.87157655,\n",
       "       101487.90541518, 137959.02649623,  63969.95996744, 108857.91214127,\n",
       "       186014.72531986, 171442.64130746, 174644.26529203, 117671.49128195,\n",
       "        96731.37857434, 165452.25779408, 107724.34331255,  50194.54176915,\n",
       "       116513.89532179,  58632.48986822, 158416.46827609,  78541.4852161 ,\n",
       "       159727.66671742, 131137.87699644, 184880.70924515, 174609.08266879,\n",
       "        93745.66352059,  78341.13383419, 180745.90439078,  84461.61490553,\n",
       "       142900.90602902, 170618.44098395,  84365.0953084 , 105307.37162181,\n",
       "       141660.07290786,  52527.34340444, 141842.9626416 , 139176.27973194,\n",
       "        98294.52669667, 113586.86790969, 126754.21895489, 152135.51985561,\n",
       "        58864.51658956, 174285.57361128, 124624.04380783, 169065.77658977,\n",
       "        91279.3319821 , 156170.37268961,  84307.26579366,  77877.75223098,\n",
       "       120414.02421346,  93380.44273242, 139020.6251412 , 143604.67103572,\n",
       "       171148.30815367, 140082.97050131, 106369.71689747, 155641.43851387,\n",
       "       140030.10330036, 110172.87893525,  69672.98677566,  88148.52068042,\n",
       "       140133.59925092, 148479.09537887, 157916.63505256,  58532.94863142,\n",
       "        93707.38422391, 112646.37475705,  56556.18943662, 107414.89996181,\n",
       "       147352.80227752, 152144.10104033, 167808.11701783, 118750.25230713,\n",
       "       120763.27666701, 139029.95295662, 157527.90934118, 121962.0621496 ,\n",
       "        87091.32399737, 104792.91384334,  95335.22679186, 178389.52287435,\n",
       "       181942.6377638 , 109831.34945507, 165254.03344095, 167806.06491901,\n",
       "       158002.44642543, 174782.86900955, 170196.77102698,  52302.18161613,\n",
       "       176938.11595788, 104751.83583866,  82710.31528806, 138890.52767844,\n",
       "       144274.74675424, 161679.01836439, 169662.05445894, 120450.9231013 ,\n",
       "       158880.70799546, 110213.73252825, 169674.51532365,  60760.61300843,\n",
       "       159036.99629067, 158169.44286047, 174511.70494474, 156294.79927783,\n",
       "       103714.37583212,  85635.96237575, 141603.54878756, 165917.69156979,\n",
       "       121182.03641977, 170751.87883893, 100505.77549412,  82097.51033129,\n",
       "       178643.18879841, 101790.48384579,  70507.40958623,  90250.04230089,\n",
       "        61247.49962681,  68912.17534522,  72775.81613477, 176914.08873123,\n",
       "        89704.69244932, 129209.43730017,  92672.90938383,  88133.59175044,\n",
       "       172836.33021617,  60893.62070015, 169015.89446009, 166450.24453203,\n",
       "       165425.54476414, 102170.5169499 , 181594.57928215,  73702.57942562,\n",
       "        91267.42979669, 135791.54160195,  64922.80257301,  71775.70235727,\n",
       "        60603.91401517, 184288.61041914, 176286.69585944, 158907.75687038,\n",
       "       141359.32216438, 154611.1792832 ,  58549.58863234,  90618.58407899,\n",
       "       152885.51163924, 168398.05223804,  72485.3627454 , 116064.24350667,\n",
       "        80087.80697209, 149828.90896187, 116806.95957371, 130191.4884516 ,\n",
       "       174534.42670327, 293584.45948282, 146270.83174788, 150646.69178013,\n",
       "        86107.47782248,  69967.20842247,  70096.78368774,  69033.6917077 ,\n",
       "       120666.75708064,  89677.68014064, 166824.27091661, 125514.76626409,\n",
       "        67209.67687468, 140930.69427701, 118544.30490695, 165897.61905905,\n",
       "       168655.48652551, 147009.66805048, 141396.22104146, 109086.50634849])"
      ]
     },
     "execution_count": 9,
     "metadata": {},
     "output_type": "execute_result"
    }
   ],
   "source": [
    "# predicting the test set results\n",
    "pred_y=MLR.predict(test_x)\n",
    "pred_y"
   ]
  },
  {
   "cell_type": "code",
   "execution_count": 10,
   "metadata": {},
   "outputs": [
    {
     "data": {
      "text/plain": [
       "array([-8.80536598e+02, -6.98169073e+02,  5.25845857e-01,  8.44390881e-01,\n",
       "        1.07574255e-01])"
      ]
     },
     "execution_count": 10,
     "metadata": {},
     "output_type": "execute_result"
    }
   ],
   "source": [
    "#calculating the coeficient \n",
    "MLR.coef_"
   ]
  },
  {
   "cell_type": "code",
   "execution_count": 11,
   "metadata": {},
   "outputs": [
    {
     "data": {
      "text/plain": [
       "-51035.229724023025"
      ]
     },
     "execution_count": 11,
     "metadata": {},
     "output_type": "execute_result"
    }
   ],
   "source": [
    "MLR.intercept_\n"
   ]
  },
  {
   "cell_type": "code",
   "execution_count": 12,
   "metadata": {},
   "outputs": [
    {
     "data": {
      "text/plain": [
       "0.9112695892268757"
      ]
     },
     "execution_count": 12,
     "metadata": {},
     "output_type": "execute_result"
    }
   ],
   "source": [
    "from sklearn.metrics import r2_score\n",
    "r2_score(test_y,pred_y)"
   ]
  },
  {
   "cell_type": "code",
   "execution_count": null,
   "metadata": {},
   "outputs": [],
   "source": []
  }
 ],
 "metadata": {
  "kernelspec": {
   "display_name": "Python 3",
   "language": "python",
   "name": "python3"
  },
  "language_info": {
   "codemirror_mode": {
    "name": "ipython",
    "version": 3
   },
   "file_extension": ".py",
   "mimetype": "text/x-python",
   "name": "python",
   "nbconvert_exporter": "python",
   "pygments_lexer": "ipython3",
   "version": "3.7.3"
  }
 },
 "nbformat": 4,
 "nbformat_minor": 2
}
